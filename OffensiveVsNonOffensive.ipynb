{
  "nbformat": 4,
  "nbformat_minor": 0,
  "metadata": {
    "colab": {
      "name": "OffensiveVsNonOffensive.ipynb",
      "provenance": []
    },
    "kernelspec": {
      "name": "python3",
      "display_name": "Python 3"
    },
    "language_info": {
      "name": "python"
    }
  },
  "cells": [
    {
      "cell_type": "markdown",
      "metadata": {
        "id": "bkWjhVdXI3S3"
      },
      "source": [
        "Installing Tensorflow Lite model maker"
      ]
    },
    {
      "cell_type": "code",
      "metadata": {
        "colab": {
          "base_uri": "https://localhost:8080/"
        },
        "id": "QeGS0ERGIzsm",
        "outputId": "874c21f4-c493-4859-fd68-f362ba339fea"
      },
      "source": [
        "!pip install -q tflite-model-maker"
      ],
      "execution_count": 1,
      "outputs": [
        {
          "output_type": "stream",
          "text": [
            "\u001b[K     |████████████████████████████████| 591 kB 5.4 MB/s \n",
            "\u001b[K     |████████████████████████████████| 120 kB 45.2 MB/s \n",
            "\u001b[K     |████████████████████████████████| 1.1 MB 32.8 MB/s \n",
            "\u001b[K     |████████████████████████████████| 840 kB 47.0 MB/s \n",
            "\u001b[K     |████████████████████████████████| 64 kB 2.3 MB/s \n",
            "\u001b[K     |████████████████████████████████| 6.3 MB 45.9 MB/s \n",
            "\u001b[K     |████████████████████████████████| 636 kB 46.5 MB/s \n",
            "\u001b[K     |████████████████████████████████| 1.2 MB 55.4 MB/s \n",
            "\u001b[K     |████████████████████████████████| 103 kB 53.1 MB/s \n",
            "\u001b[K     |████████████████████████████████| 211 kB 61.0 MB/s \n",
            "\u001b[K     |████████████████████████████████| 87 kB 5.0 MB/s \n",
            "\u001b[K     |████████████████████████████████| 1.1 MB 46.0 MB/s \n",
            "\u001b[K     |████████████████████████████████| 99 kB 6.7 MB/s \n",
            "\u001b[K     |████████████████████████████████| 352 kB 44.9 MB/s \n",
            "\u001b[K     |████████████████████████████████| 37.1 MB 44 kB/s \n",
            "\u001b[K     |████████████████████████████████| 200 kB 57.1 MB/s \n",
            "\u001b[?25h  Building wheel for fire (setup.py) ... \u001b[?25l\u001b[?25hdone\n",
            "  Building wheel for py-cpuinfo (setup.py) ... \u001b[?25l\u001b[?25hdone\n"
          ],
          "name": "stdout"
        }
      ]
    },
    {
      "cell_type": "markdown",
      "metadata": {
        "id": "TlKrS8pAMFxG"
      },
      "source": [
        "Importing Libraries"
      ]
    },
    {
      "cell_type": "code",
      "metadata": {
        "id": "O9EfDYR7Is4S"
      },
      "source": [
        "import numpy as np\n",
        "from numpy.random import RandomState\n",
        "import pandas as pd\n",
        "import os\n",
        "from tflite_model_maker import model_spec\n",
        "from tflite_model_maker import text_classifier\n",
        "from tflite_model_maker.config import ExportFormat\n",
        "from tflite_model_maker.config import QuantizationConfig\n",
        "from tflite_model_maker.text_classifier import AverageWordVecSpec\n",
        "from tflite_model_maker.text_classifier import DataLoader\n",
        "import tensorflow as tf\n",
        "assert tf.__version__.startswith('2')\n",
        "tf.get_logger().setLevel('ERROR')"
      ],
      "execution_count": 2,
      "outputs": []
    },
    {
      "cell_type": "markdown",
      "metadata": {
        "id": "4gUelE--MZsO"
      },
      "source": [
        "Loading Train and Test Dataset"
      ]
    },
    {
      "cell_type": "code",
      "metadata": {
        "id": "SYHuO3ehI8om"
      },
      "source": [
        "df_train = pd.read_csv('train.csv', error_bad_lines = False, engine = \"python\")\n",
        "df_test = pd.read_csv('test.csv', error_bad_lines = False, engine = \"python\")"
      ],
      "execution_count": 3,
      "outputs": []
    },
    {
      "cell_type": "code",
      "metadata": {
        "colab": {
          "base_uri": "https://localhost:8080/",
          "height": 224
        },
        "id": "9AKyruPdJAt6",
        "outputId": "da6ac7df-824d-4568-fe65-bf00b0f4d702"
      },
      "source": [
        "print(df_train.shape)\n",
        "df_train.head()"
      ],
      "execution_count": 4,
      "outputs": [
        {
          "output_type": "stream",
          "text": [
            "(700, 3)\n"
          ],
          "name": "stdout"
        },
        {
          "output_type": "execute_result",
          "data": {
            "text/html": [
              "<div>\n",
              "<style scoped>\n",
              "    .dataframe tbody tr th:only-of-type {\n",
              "        vertical-align: middle;\n",
              "    }\n",
              "\n",
              "    .dataframe tbody tr th {\n",
              "        vertical-align: top;\n",
              "    }\n",
              "\n",
              "    .dataframe thead th {\n",
              "        text-align: right;\n",
              "    }\n",
              "</style>\n",
              "<table border=\"1\" class=\"dataframe\">\n",
              "  <thead>\n",
              "    <tr style=\"text-align: right;\">\n",
              "      <th></th>\n",
              "      <th>Unnamed: 0</th>\n",
              "      <th>sentence</th>\n",
              "      <th>label</th>\n",
              "    </tr>\n",
              "  </thead>\n",
              "  <tbody>\n",
              "    <tr>\n",
              "      <th>0</th>\n",
              "      <td>0</td>\n",
              "      <td>wodaeeex3: I Want Snake Bites , MY Industrial ...</td>\n",
              "      <td>Offensive</td>\n",
              "    </tr>\n",
              "    <tr>\n",
              "      <th>1</th>\n",
              "      <td>1</td>\n",
              "      <td>What a wonderful thought it is that some of th...</td>\n",
              "      <td>Non-Offensive</td>\n",
              "    </tr>\n",
              "    <tr>\n",
              "      <th>2</th>\n",
              "      <td>2</td>\n",
              "      <td>VineForTheByrd: On my way to fuck your bitch L...</td>\n",
              "      <td>Offensive</td>\n",
              "    </tr>\n",
              "    <tr>\n",
              "      <th>3</th>\n",
              "      <td>3</td>\n",
              "      <td>__sneakyb: I hate when boys deny that they hav...</td>\n",
              "      <td>Offensive</td>\n",
              "    </tr>\n",
              "    <tr>\n",
              "      <th>4</th>\n",
              "      <td>4</td>\n",
              "      <td>Love yourself. It is important to stay positiv...</td>\n",
              "      <td>Non-Offensive</td>\n",
              "    </tr>\n",
              "  </tbody>\n",
              "</table>\n",
              "</div>"
            ],
            "text/plain": [
              "   Unnamed: 0                                           sentence          label\n",
              "0           0  wodaeeex3: I Want Snake Bites , MY Industrial ...      Offensive\n",
              "1           1  What a wonderful thought it is that some of th...  Non-Offensive\n",
              "2           2  VineForTheByrd: On my way to fuck your bitch L...      Offensive\n",
              "3           3  __sneakyb: I hate when boys deny that they hav...      Offensive\n",
              "4           4  Love yourself. It is important to stay positiv...  Non-Offensive"
            ]
          },
          "metadata": {},
          "execution_count": 4
        }
      ]
    },
    {
      "cell_type": "code",
      "metadata": {
        "colab": {
          "base_uri": "https://localhost:8080/",
          "height": 224
        },
        "id": "UVAk2Jd2JCTS",
        "outputId": "c90ea8a3-7df2-4cf1-8fe0-1d7dfa1c1bea"
      },
      "source": [
        "print(df_test.shape)\n",
        "df_test.head()"
      ],
      "execution_count": 5,
      "outputs": [
        {
          "output_type": "stream",
          "text": [
            "(300, 3)\n"
          ],
          "name": "stdout"
        },
        {
          "output_type": "execute_result",
          "data": {
            "text/html": [
              "<div>\n",
              "<style scoped>\n",
              "    .dataframe tbody tr th:only-of-type {\n",
              "        vertical-align: middle;\n",
              "    }\n",
              "\n",
              "    .dataframe tbody tr th {\n",
              "        vertical-align: top;\n",
              "    }\n",
              "\n",
              "    .dataframe thead th {\n",
              "        text-align: right;\n",
              "    }\n",
              "</style>\n",
              "<table border=\"1\" class=\"dataframe\">\n",
              "  <thead>\n",
              "    <tr style=\"text-align: right;\">\n",
              "      <th></th>\n",
              "      <th>Unnamed: 0</th>\n",
              "      <th>sentence</th>\n",
              "      <th>label</th>\n",
              "    </tr>\n",
              "  </thead>\n",
              "  <tbody>\n",
              "    <tr>\n",
              "      <th>0</th>\n",
              "      <td>0</td>\n",
              "      <td>A7XDemery: I'm a fucking fag they said</td>\n",
              "      <td>Offensive</td>\n",
              "    </tr>\n",
              "    <tr>\n",
              "      <th>1</th>\n",
              "      <td>1</td>\n",
              "      <td>you dodge a bullet DaRealKha: All da bitches ...</td>\n",
              "      <td>Offensive</td>\n",
              "    </tr>\n",
              "    <tr>\n",
              "      <th>2</th>\n",
              "      <td>2</td>\n",
              "      <td>MadFlyentist: Oregon chokes every year get off...</td>\n",
              "      <td>Offensive</td>\n",
              "    </tr>\n",
              "    <tr>\n",
              "      <th>3</th>\n",
              "      <td>3</td>\n",
              "      <td>Linniekravitz: WesGodLaFlare bitch wtf</td>\n",
              "      <td>Offensive</td>\n",
              "    </tr>\n",
              "    <tr>\n",
              "      <th>4</th>\n",
              "      <td>4</td>\n",
              "      <td>You have to be positive, and Im not just talki...</td>\n",
              "      <td>Non-offensive</td>\n",
              "    </tr>\n",
              "  </tbody>\n",
              "</table>\n",
              "</div>"
            ],
            "text/plain": [
              "   Unnamed: 0                                           sentence          label\n",
              "0           0             A7XDemery: I'm a fucking fag they said      Offensive\n",
              "1           1   you dodge a bullet DaRealKha: All da bitches ...      Offensive\n",
              "2           2  MadFlyentist: Oregon chokes every year get off...      Offensive\n",
              "3           3             Linniekravitz: WesGodLaFlare bitch wtf      Offensive\n",
              "4           4  You have to be positive, and Im not just talki...  Non-offensive"
            ]
          },
          "metadata": {},
          "execution_count": 5
        }
      ]
    },
    {
      "cell_type": "markdown",
      "metadata": {
        "id": "5-9lRtStMkrn"
      },
      "source": [
        "Selecting Model"
      ]
    },
    {
      "cell_type": "code",
      "metadata": {
        "id": "861kI1kzJEK8"
      },
      "source": [
        "spec = model_spec.get('average_word_vec')\n",
        "#spec = model_spec.get('mobilebert_classifier')\n",
        "# spec = model_spec.get(‘bert_classifier’)\n",
        "# spec = AverageWordVecSpec(wordvec_dim = 32)"
      ],
      "execution_count": 6,
      "outputs": []
    },
    {
      "cell_type": "code",
      "metadata": {
        "id": "JTNcq3m7JFmR"
      },
      "source": [
        "#Only when using mobilebert_classifier\n",
        "#spec.seq_len = 256"
      ],
      "execution_count": 7,
      "outputs": []
    },
    {
      "cell_type": "markdown",
      "metadata": {
        "id": "vaDla5ZENP-C"
      },
      "source": [
        "Loading Training and Test data"
      ]
    },
    {
      "cell_type": "code",
      "metadata": {
        "id": "1Xa1W_YhJMCl"
      },
      "source": [
        "train_data = DataLoader.from_csv(\n",
        "     filename = 'train.csv',\n",
        "     text_column = 'sentence',\n",
        "     label_column = 'label',\n",
        "     model_spec = spec,\n",
        "     is_training = True)\n",
        "\n",
        "test_data = DataLoader.from_csv(\n",
        "     filename = 'test.csv',\n",
        "     text_column = 'sentence',\n",
        "     label_column = 'label',\n",
        "     model_spec = spec,\n",
        "     is_training = False)"
      ],
      "execution_count": 8,
      "outputs": []
    },
    {
      "cell_type": "markdown",
      "metadata": {
        "id": "g_s-Qep0Nb2f"
      },
      "source": [
        "Training Model"
      ]
    },
    {
      "cell_type": "code",
      "metadata": {
        "colab": {
          "base_uri": "https://localhost:8080/"
        },
        "id": "TWdEtRAqJNmW",
        "outputId": "aa59e195-d01b-441a-866d-f711fe7c28b2"
      },
      "source": [
        "model = text_classifier.create(train_data, model_spec = spec, epochs = 100)"
      ],
      "execution_count": 9,
      "outputs": [
        {
          "output_type": "stream",
          "text": [
            "Epoch 1/100\n",
            "21/21 [==============================] - 1s 9ms/step - loss: 0.6934 - accuracy: 0.4673\n",
            "Epoch 2/100\n",
            "21/21 [==============================] - 0s 6ms/step - loss: 0.6928 - accuracy: 0.5193\n",
            "Epoch 3/100\n",
            "21/21 [==============================] - 0s 6ms/step - loss: 0.6925 - accuracy: 0.5804\n",
            "Epoch 4/100\n",
            "21/21 [==============================] - 0s 6ms/step - loss: 0.6917 - accuracy: 0.6116\n",
            "Epoch 5/100\n",
            "21/21 [==============================] - 0s 6ms/step - loss: 0.6908 - accuracy: 0.6696\n",
            "Epoch 6/100\n",
            "21/21 [==============================] - 0s 6ms/step - loss: 0.6900 - accuracy: 0.6875\n",
            "Epoch 7/100\n",
            "21/21 [==============================] - 0s 6ms/step - loss: 0.6881 - accuracy: 0.7396\n",
            "Epoch 8/100\n",
            "21/21 [==============================] - 0s 5ms/step - loss: 0.6841 - accuracy: 0.6875\n",
            "Epoch 9/100\n",
            "21/21 [==============================] - 0s 6ms/step - loss: 0.6820 - accuracy: 0.6964\n",
            "Epoch 10/100\n",
            "21/21 [==============================] - 0s 6ms/step - loss: 0.6768 - accuracy: 0.7827\n",
            "Epoch 11/100\n",
            "21/21 [==============================] - 0s 6ms/step - loss: 0.6714 - accuracy: 0.8185\n",
            "Epoch 12/100\n",
            "21/21 [==============================] - 0s 7ms/step - loss: 0.6671 - accuracy: 0.8289\n",
            "Epoch 13/100\n",
            "21/21 [==============================] - 0s 6ms/step - loss: 0.6596 - accuracy: 0.8452\n",
            "Epoch 14/100\n",
            "21/21 [==============================] - 0s 5ms/step - loss: 0.6505 - accuracy: 0.8423\n",
            "Epoch 15/100\n",
            "21/21 [==============================] - 0s 5ms/step - loss: 0.6421 - accuracy: 0.8512\n",
            "Epoch 16/100\n",
            "21/21 [==============================] - 0s 5ms/step - loss: 0.6312 - accuracy: 0.8810\n",
            "Epoch 17/100\n",
            "21/21 [==============================] - 0s 6ms/step - loss: 0.6198 - accuracy: 0.8452\n",
            "Epoch 18/100\n",
            "21/21 [==============================] - 0s 5ms/step - loss: 0.6104 - accuracy: 0.8735\n",
            "Epoch 19/100\n",
            "21/21 [==============================] - 0s 6ms/step - loss: 0.5959 - accuracy: 0.8780\n",
            "Epoch 20/100\n",
            "21/21 [==============================] - 0s 6ms/step - loss: 0.5853 - accuracy: 0.9018\n",
            "Epoch 21/100\n",
            "21/21 [==============================] - 0s 6ms/step - loss: 0.5700 - accuracy: 0.8869\n",
            "Epoch 22/100\n",
            "21/21 [==============================] - 0s 7ms/step - loss: 0.5517 - accuracy: 0.9018\n",
            "Epoch 23/100\n",
            "21/21 [==============================] - 0s 6ms/step - loss: 0.5372 - accuracy: 0.9211\n",
            "Epoch 24/100\n",
            "21/21 [==============================] - 0s 7ms/step - loss: 0.5147 - accuracy: 0.9301\n",
            "Epoch 25/100\n",
            "21/21 [==============================] - 0s 6ms/step - loss: 0.5017 - accuracy: 0.9048\n",
            "Epoch 26/100\n",
            "21/21 [==============================] - 0s 5ms/step - loss: 0.4833 - accuracy: 0.9137\n",
            "Epoch 27/100\n",
            "21/21 [==============================] - 0s 5ms/step - loss: 0.4659 - accuracy: 0.9196\n",
            "Epoch 28/100\n",
            "21/21 [==============================] - 0s 5ms/step - loss: 0.4469 - accuracy: 0.9241\n",
            "Epoch 29/100\n",
            "21/21 [==============================] - 0s 6ms/step - loss: 0.4334 - accuracy: 0.9226\n",
            "Epoch 30/100\n",
            "21/21 [==============================] - 0s 5ms/step - loss: 0.4180 - accuracy: 0.9271\n",
            "Epoch 31/100\n",
            "21/21 [==============================] - 0s 6ms/step - loss: 0.3914 - accuracy: 0.9420\n",
            "Epoch 32/100\n",
            "21/21 [==============================] - 0s 6ms/step - loss: 0.3734 - accuracy: 0.9449\n",
            "Epoch 33/100\n",
            "21/21 [==============================] - 0s 6ms/step - loss: 0.3589 - accuracy: 0.9256\n",
            "Epoch 34/100\n",
            "21/21 [==============================] - 0s 6ms/step - loss: 0.3401 - accuracy: 0.9375\n",
            "Epoch 35/100\n",
            "21/21 [==============================] - 0s 5ms/step - loss: 0.3283 - accuracy: 0.9539\n",
            "Epoch 36/100\n",
            "21/21 [==============================] - 0s 5ms/step - loss: 0.3115 - accuracy: 0.9375\n",
            "Epoch 37/100\n",
            "21/21 [==============================] - 0s 5ms/step - loss: 0.2816 - accuracy: 0.9598\n",
            "Epoch 38/100\n",
            "21/21 [==============================] - 0s 5ms/step - loss: 0.2713 - accuracy: 0.9524\n",
            "Epoch 39/100\n",
            "21/21 [==============================] - 0s 5ms/step - loss: 0.2659 - accuracy: 0.9554\n",
            "Epoch 40/100\n",
            "21/21 [==============================] - 0s 5ms/step - loss: 0.2508 - accuracy: 0.9509\n",
            "Epoch 41/100\n",
            "21/21 [==============================] - 0s 5ms/step - loss: 0.2277 - accuracy: 0.9673\n",
            "Epoch 42/100\n",
            "21/21 [==============================] - 0s 5ms/step - loss: 0.2207 - accuracy: 0.9643\n",
            "Epoch 43/100\n",
            "21/21 [==============================] - 0s 5ms/step - loss: 0.2115 - accuracy: 0.9509\n",
            "Epoch 44/100\n",
            "21/21 [==============================] - 0s 5ms/step - loss: 0.1957 - accuracy: 0.9673\n",
            "Epoch 45/100\n",
            "21/21 [==============================] - 0s 5ms/step - loss: 0.1891 - accuracy: 0.9702\n",
            "Epoch 46/100\n",
            "21/21 [==============================] - 0s 5ms/step - loss: 0.1807 - accuracy: 0.9702\n",
            "Epoch 47/100\n",
            "21/21 [==============================] - 0s 5ms/step - loss: 0.1751 - accuracy: 0.9628\n",
            "Epoch 48/100\n",
            "21/21 [==============================] - 0s 5ms/step - loss: 0.1582 - accuracy: 0.9702\n",
            "Epoch 49/100\n",
            "21/21 [==============================] - 0s 5ms/step - loss: 0.1555 - accuracy: 0.9673\n",
            "Epoch 50/100\n",
            "21/21 [==============================] - 0s 5ms/step - loss: 0.1463 - accuracy: 0.9717\n",
            "Epoch 51/100\n",
            "21/21 [==============================] - 0s 5ms/step - loss: 0.1400 - accuracy: 0.9673\n",
            "Epoch 52/100\n",
            "21/21 [==============================] - 0s 5ms/step - loss: 0.1366 - accuracy: 0.9643\n",
            "Epoch 53/100\n",
            "21/21 [==============================] - 0s 5ms/step - loss: 0.1306 - accuracy: 0.9717\n",
            "Epoch 54/100\n",
            "21/21 [==============================] - 0s 6ms/step - loss: 0.1138 - accuracy: 0.9747\n",
            "Epoch 55/100\n",
            "21/21 [==============================] - 0s 5ms/step - loss: 0.1228 - accuracy: 0.9688\n",
            "Epoch 56/100\n",
            "21/21 [==============================] - 0s 5ms/step - loss: 0.1103 - accuracy: 0.9792\n",
            "Epoch 57/100\n",
            "21/21 [==============================] - 0s 5ms/step - loss: 0.0978 - accuracy: 0.9777\n",
            "Epoch 58/100\n",
            "21/21 [==============================] - 0s 6ms/step - loss: 0.1011 - accuracy: 0.9732\n",
            "Epoch 59/100\n",
            "21/21 [==============================] - 0s 5ms/step - loss: 0.0912 - accuracy: 0.9836\n",
            "Epoch 60/100\n",
            "21/21 [==============================] - 0s 6ms/step - loss: 0.0968 - accuracy: 0.9762\n",
            "Epoch 61/100\n",
            "21/21 [==============================] - 0s 5ms/step - loss: 0.0779 - accuracy: 0.9821\n",
            "Epoch 62/100\n",
            "21/21 [==============================] - 0s 5ms/step - loss: 0.0811 - accuracy: 0.9836\n",
            "Epoch 63/100\n",
            "21/21 [==============================] - 0s 5ms/step - loss: 0.0771 - accuracy: 0.9821\n",
            "Epoch 64/100\n",
            "21/21 [==============================] - 0s 5ms/step - loss: 0.0731 - accuracy: 0.9866\n",
            "Epoch 65/100\n",
            "21/21 [==============================] - 0s 6ms/step - loss: 0.0753 - accuracy: 0.9851\n",
            "Epoch 66/100\n",
            "21/21 [==============================] - 0s 6ms/step - loss: 0.0587 - accuracy: 0.9911\n",
            "Epoch 67/100\n",
            "21/21 [==============================] - 0s 5ms/step - loss: 0.0653 - accuracy: 0.9896\n",
            "Epoch 68/100\n",
            "21/21 [==============================] - 0s 6ms/step - loss: 0.0647 - accuracy: 0.9807\n",
            "Epoch 69/100\n",
            "21/21 [==============================] - 0s 5ms/step - loss: 0.0583 - accuracy: 0.9851\n",
            "Epoch 70/100\n",
            "21/21 [==============================] - 0s 5ms/step - loss: 0.0554 - accuracy: 0.9866\n",
            "Epoch 71/100\n",
            "21/21 [==============================] - 0s 5ms/step - loss: 0.0519 - accuracy: 0.9866\n",
            "Epoch 72/100\n",
            "21/21 [==============================] - 0s 4ms/step - loss: 0.0476 - accuracy: 0.9896\n",
            "Epoch 73/100\n",
            "21/21 [==============================] - 0s 6ms/step - loss: 0.0493 - accuracy: 0.9866\n",
            "Epoch 74/100\n",
            "21/21 [==============================] - 0s 5ms/step - loss: 0.0464 - accuracy: 0.9926\n",
            "Epoch 75/100\n",
            "21/21 [==============================] - 0s 5ms/step - loss: 0.0428 - accuracy: 0.9940\n",
            "Epoch 76/100\n",
            "21/21 [==============================] - 0s 5ms/step - loss: 0.0406 - accuracy: 0.9940\n",
            "Epoch 77/100\n",
            "21/21 [==============================] - 0s 5ms/step - loss: 0.0412 - accuracy: 0.9926\n",
            "Epoch 78/100\n",
            "21/21 [==============================] - 0s 5ms/step - loss: 0.0373 - accuracy: 0.9955\n",
            "Epoch 79/100\n",
            "21/21 [==============================] - 0s 5ms/step - loss: 0.0412 - accuracy: 0.9911\n",
            "Epoch 80/100\n",
            "21/21 [==============================] - 0s 5ms/step - loss: 0.0325 - accuracy: 0.9955\n",
            "Epoch 81/100\n",
            "21/21 [==============================] - 0s 5ms/step - loss: 0.0324 - accuracy: 0.9926\n",
            "Epoch 82/100\n",
            "21/21 [==============================] - 0s 5ms/step - loss: 0.0310 - accuracy: 0.9955\n",
            "Epoch 83/100\n",
            "21/21 [==============================] - 0s 5ms/step - loss: 0.0357 - accuracy: 0.9911\n",
            "Epoch 84/100\n",
            "21/21 [==============================] - 0s 4ms/step - loss: 0.0259 - accuracy: 0.9955\n",
            "Epoch 85/100\n",
            "21/21 [==============================] - 0s 5ms/step - loss: 0.0310 - accuracy: 0.9940\n",
            "Epoch 86/100\n",
            "21/21 [==============================] - 0s 5ms/step - loss: 0.0263 - accuracy: 0.9955\n",
            "Epoch 87/100\n",
            "21/21 [==============================] - 0s 5ms/step - loss: 0.0249 - accuracy: 0.9955\n",
            "Epoch 88/100\n",
            "21/21 [==============================] - 0s 6ms/step - loss: 0.0235 - accuracy: 0.9985\n",
            "Epoch 89/100\n",
            "21/21 [==============================] - 0s 6ms/step - loss: 0.0223 - accuracy: 0.9970\n",
            "Epoch 90/100\n",
            "21/21 [==============================] - 0s 5ms/step - loss: 0.0271 - accuracy: 0.9911\n",
            "Epoch 91/100\n",
            "21/21 [==============================] - 0s 5ms/step - loss: 0.0214 - accuracy: 0.9970\n",
            "Epoch 92/100\n",
            "21/21 [==============================] - 0s 5ms/step - loss: 0.0174 - accuracy: 0.9970\n",
            "Epoch 93/100\n",
            "21/21 [==============================] - 0s 5ms/step - loss: 0.0215 - accuracy: 0.9940\n",
            "Epoch 94/100\n",
            "21/21 [==============================] - 0s 6ms/step - loss: 0.0182 - accuracy: 1.0000\n",
            "Epoch 95/100\n",
            "21/21 [==============================] - 0s 5ms/step - loss: 0.0154 - accuracy: 0.9955\n",
            "Epoch 96/100\n",
            "21/21 [==============================] - 0s 5ms/step - loss: 0.0200 - accuracy: 0.9970\n",
            "Epoch 97/100\n",
            "21/21 [==============================] - 0s 6ms/step - loss: 0.0196 - accuracy: 0.9970\n",
            "Epoch 98/100\n",
            "21/21 [==============================] - 0s 6ms/step - loss: 0.0120 - accuracy: 1.0000\n",
            "Epoch 99/100\n",
            "21/21 [==============================] - 0s 6ms/step - loss: 0.0180 - accuracy: 0.9955\n",
            "Epoch 100/100\n",
            "21/21 [==============================] - 0s 5ms/step - loss: 0.0142 - accuracy: 0.9970\n"
          ],
          "name": "stdout"
        }
      ]
    },
    {
      "cell_type": "markdown",
      "metadata": {
        "id": "ai7KNH3BNvPo"
      },
      "source": [
        "Model Details"
      ]
    },
    {
      "cell_type": "code",
      "metadata": {
        "colab": {
          "base_uri": "https://localhost:8080/"
        },
        "id": "OqguLgueJPZw",
        "outputId": "ba9c8c79-fd3b-4689-e38d-401bf5eb2966"
      },
      "source": [
        "model.summary()"
      ],
      "execution_count": 10,
      "outputs": [
        {
          "output_type": "stream",
          "text": [
            "Model: \"sequential\"\n",
            "_________________________________________________________________\n",
            "Layer (type)                 Output Shape              Param #   \n",
            "=================================================================\n",
            "embedding (Embedding)        (None, 256, 16)           38064     \n",
            "_________________________________________________________________\n",
            "global_average_pooling1d (Gl (None, 16)                0         \n",
            "_________________________________________________________________\n",
            "dense (Dense)                (None, 16)                272       \n",
            "_________________________________________________________________\n",
            "dropout (Dropout)            (None, 16)                0         \n",
            "_________________________________________________________________\n",
            "dense_1 (Dense)              (None, 2)                 34        \n",
            "=================================================================\n",
            "Total params: 38,370\n",
            "Trainable params: 38,370\n",
            "Non-trainable params: 0\n",
            "_________________________________________________________________\n"
          ],
          "name": "stdout"
        }
      ]
    },
    {
      "cell_type": "markdown",
      "metadata": {
        "id": "4GB81-_uNyhT"
      },
      "source": [
        "Evaluating Model"
      ]
    },
    {
      "cell_type": "code",
      "metadata": {
        "colab": {
          "base_uri": "https://localhost:8080/"
        },
        "id": "YSTM2FB5JSWW",
        "outputId": "eebbe144-4d55-41db-e3c9-3465e0dee450"
      },
      "source": [
        "loss, acc=model.evaluate(test_data)"
      ],
      "execution_count": 11,
      "outputs": [
        {
          "output_type": "stream",
          "text": [
            "10/10 [==============================] - 0s 9ms/step - loss: 0.0672 - accuracy: 0.9633\n"
          ],
          "name": "stdout"
        }
      ]
    },
    {
      "cell_type": "markdown",
      "metadata": {
        "id": "_7a4u1NXN2kg"
      },
      "source": [
        "Exporting TF Lite model"
      ]
    },
    {
      "cell_type": "code",
      "metadata": {
        "id": "T2eFYjnXJURI"
      },
      "source": [
        "model.export(export_dir='average_word_vec')"
      ],
      "execution_count": 12,
      "outputs": []
    },
    {
      "cell_type": "code",
      "metadata": {
        "id": "OZvjBY0XJWed"
      },
      "source": [
        ""
      ],
      "execution_count": null,
      "outputs": []
    }
  ]
}